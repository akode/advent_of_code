{
 "cells": [
  {
   "cell_type": "code",
   "execution_count": 293,
   "id": "23b3f448-94fe-481d-b6f8-31f7ae2e7c74",
   "metadata": {},
   "outputs": [],
   "source": [
    "with open(\"data/input3.txt\") as fp:\n",
    "    data = fp.readlines()"
   ]
  },
  {
   "cell_type": "code",
   "execution_count": 294,
   "id": "67583780",
   "metadata": {},
   "outputs": [],
   "source": [
    "n_bits = len(data[0])-1"
   ]
  },
  {
   "cell_type": "code",
   "execution_count": 295,
   "id": "6f6eae02",
   "metadata": {},
   "outputs": [
    {
     "data": {
      "text/plain": [
       "1000"
      ]
     },
     "execution_count": 295,
     "metadata": {},
     "output_type": "execute_result"
    }
   ],
   "source": [
    "len(data)"
   ]
  },
  {
   "cell_type": "markdown",
   "id": "33e27396",
   "metadata": {},
   "source": [
    "# Part 1"
   ]
  },
  {
   "cell_type": "code",
   "execution_count": 296,
   "id": "730d225b",
   "metadata": {},
   "outputs": [],
   "source": [
    "def compute_most_common(data):\n",
    "    one_count = [0 for _ in range(n_bits)]\n",
    "    for row in data:\n",
    "        for bit in range(n_bits):\n",
    "            one_count[bit] += int(row[bit])\n",
    "    return [1 if bit >= (len(data)/2) else 0 for bit in one_count]\n",
    "\n",
    "def compute_least_common(data):\n",
    "    return [0 if bit else 1 for bit in compute_most_common(data)]"
   ]
  },
  {
   "cell_type": "code",
   "execution_count": 297,
   "id": "aa6f13cb",
   "metadata": {},
   "outputs": [],
   "source": [
    "most_common = compute_most_common(data)"
   ]
  },
  {
   "cell_type": "code",
   "execution_count": 298,
   "id": "cfc27cc0",
   "metadata": {},
   "outputs": [],
   "source": [
    "least_common = compute_least_common(data)"
   ]
  },
  {
   "cell_type": "code",
   "execution_count": 299,
   "id": "76a08f4b",
   "metadata": {},
   "outputs": [],
   "source": [
    "gamma = int(\"\".join(str(bit) for bit in most_common),2)"
   ]
  },
  {
   "cell_type": "code",
   "execution_count": 300,
   "id": "e7fe2d90",
   "metadata": {},
   "outputs": [],
   "source": [
    "epsilon = int(\"\".join(str(bit) for bit in least_common), 2)"
   ]
  },
  {
   "cell_type": "code",
   "execution_count": 301,
   "id": "d6d0ab6b",
   "metadata": {},
   "outputs": [
    {
     "data": {
      "text/plain": [
       "3959450"
      ]
     },
     "execution_count": 301,
     "metadata": {},
     "output_type": "execute_result"
    }
   ],
   "source": [
    "gamma*epsilon"
   ]
  },
  {
   "cell_type": "markdown",
   "id": "0eac1f85-aefb-463c-88d0-9a8b40b30db6",
   "metadata": {},
   "source": [
    "# Part 2"
   ]
  },
  {
   "cell_type": "code",
   "execution_count": 302,
   "id": "abb32327",
   "metadata": {},
   "outputs": [],
   "source": [
    "def prune_list(data, bit, bit_val):\n",
    "    return list(filter(lambda item: int(item[bit])==int(bit_val), data))\n",
    "    "
   ]
  },
  {
   "cell_type": "code",
   "execution_count": 305,
   "id": "c7e734ac",
   "metadata": {},
   "outputs": [],
   "source": [
    "def iterate(data, ref_func):\n",
    "    candidates = data.copy()\n",
    "    for bit in range(n_bits):\n",
    "        reference = ref_func(candidates)\n",
    "        if len(candidates) == 1:\n",
    "            return int(candidates[0],2)\n",
    "        else:\n",
    "            pruned = prune_list(candidates, bit, reference[bit])\n",
    "            if len(pruned) > 0:\n",
    "                candidates = pruned\n",
    "    return int(candidates[0],2)"
   ]
  },
  {
   "cell_type": "code",
   "execution_count": 306,
   "id": "326cd5b8",
   "metadata": {},
   "outputs": [],
   "source": [
    "oxy = iterate(data, compute_most_common)"
   ]
  },
  {
   "cell_type": "code",
   "execution_count": 307,
   "id": "4beaf96f",
   "metadata": {},
   "outputs": [
    {
     "data": {
      "text/plain": [
       "2039"
      ]
     },
     "execution_count": 307,
     "metadata": {},
     "output_type": "execute_result"
    }
   ],
   "source": [
    "oxy"
   ]
  },
  {
   "cell_type": "code",
   "execution_count": 308,
   "id": "4485b2ff",
   "metadata": {},
   "outputs": [],
   "source": [
    "co2 = iterate(data, compute_least_common)"
   ]
  },
  {
   "cell_type": "code",
   "execution_count": 309,
   "id": "aa30ceb1",
   "metadata": {},
   "outputs": [
    {
     "data": {
      "text/plain": [
       "7440311"
      ]
     },
     "execution_count": 309,
     "metadata": {},
     "output_type": "execute_result"
    }
   ],
   "source": [
    "co2*oxy"
   ]
  },
  {
   "cell_type": "code",
   "execution_count": null,
   "id": "77a1fd3d",
   "metadata": {},
   "outputs": [],
   "source": []
  }
 ],
 "metadata": {
  "kernelspec": {
   "display_name": "Python 3",
   "language": "python",
   "name": "python3"
  },
  "language_info": {
   "codemirror_mode": {
    "name": "ipython",
    "version": 3
   },
   "file_extension": ".py",
   "mimetype": "text/x-python",
   "name": "python",
   "nbconvert_exporter": "python",
   "pygments_lexer": "ipython3",
   "version": "3.8.11"
  }
 },
 "nbformat": 4,
 "nbformat_minor": 5
}
