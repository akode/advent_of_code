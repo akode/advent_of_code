{
 "cells": [
  {
   "cell_type": "code",
   "execution_count": 13,
   "id": "9166733c-2b41-47f2-b3c7-ab5acab0fb68",
   "metadata": {},
   "outputs": [],
   "source": [
    "import collections as ct\n",
    "import numpy as np"
   ]
  },
  {
   "cell_type": "code",
   "execution_count": 86,
   "id": "23b3f448-94fe-481d-b6f8-31f7ae2e7c74",
   "metadata": {},
   "outputs": [],
   "source": [
    "with open(\"input.txt\") as fp:\n",
    "    data = fp.readlines()"
   ]
  },
  {
   "cell_type": "code",
   "execution_count": 87,
   "id": "0f17b5a5-361d-4360-94cc-69772b6349b4",
   "metadata": {},
   "outputs": [],
   "source": [
    "data = np.array([[int(b) for idx, b in enumerate(item.strip())] for item in data])"
   ]
  },
  {
   "cell_type": "markdown",
   "id": "2b8f2b77-6d6d-4e97-869b-2e05a6ca52dc",
   "metadata": {},
   "source": [
    "# Part 1"
   ]
  },
  {
   "cell_type": "code",
   "execution_count": 88,
   "id": "6c595934-70f2-47d6-b30f-b8c96de72a06",
   "metadata": {},
   "outputs": [],
   "source": [
    "mean = data.mean(axis=0)"
   ]
  },
  {
   "cell_type": "code",
   "execution_count": 90,
   "id": "b10f2c6d-6b5e-4432-ac22-5fcb1531e7c7",
   "metadata": {},
   "outputs": [],
   "source": [
    "most_common = \"\".join(str(int(b)) for b in np.round(mean))"
   ]
  },
  {
   "cell_type": "code",
   "execution_count": 92,
   "id": "f4c74a88-1879-466f-9479-68212f404539",
   "metadata": {},
   "outputs": [],
   "source": [
    "least_common = \"\".join(str(1) if b==\"0\" else str(0) for b in most_common)"
   ]
  },
  {
   "cell_type": "code",
   "execution_count": 93,
   "id": "984d9087-6d34-4919-ba1d-934d486afdb7",
   "metadata": {},
   "outputs": [],
   "source": [
    "gamma = int(most_common, 2)"
   ]
  },
  {
   "cell_type": "code",
   "execution_count": 94,
   "id": "43000751-8196-480e-bac6-b247461193b9",
   "metadata": {},
   "outputs": [],
   "source": [
    "epsilon = int(least_common, 2)"
   ]
  },
  {
   "cell_type": "code",
   "execution_count": 95,
   "id": "bd6bb0c6-1168-4b1f-887d-e746b57925a9",
   "metadata": {},
   "outputs": [
    {
     "data": {
      "text/plain": [
       "198"
      ]
     },
     "execution_count": 95,
     "metadata": {},
     "output_type": "execute_result"
    }
   ],
   "source": [
    "gamma*epsilon"
   ]
  },
  {
   "cell_type": "markdown",
   "id": "0eac1f85-aefb-463c-88d0-9a8b40b30db6",
   "metadata": {},
   "source": [
    "# Part 2"
   ]
  },
  {
   "cell_type": "code",
   "execution_count": null,
   "id": "6cf3fe77-f281-429b-9c82-19609674f4cb",
   "metadata": {},
   "outputs": [],
   "source": []
  }
 ],
 "metadata": {
  "kernelspec": {
   "display_name": "Python 3",
   "language": "python",
   "name": "python3"
  },
  "language_info": {
   "codemirror_mode": {
    "name": "ipython",
    "version": 3
   },
   "file_extension": ".py",
   "mimetype": "text/x-python",
   "name": "python",
   "nbconvert_exporter": "python",
   "pygments_lexer": "ipython3",
   "version": "3.9.4"
  }
 },
 "nbformat": 4,
 "nbformat_minor": 5
}
